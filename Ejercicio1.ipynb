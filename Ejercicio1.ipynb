{
 "cells": [
  {
   "cell_type": "markdown",
   "id": "3c042910",
   "metadata": {},
   "source": [
    "Ejercicio 1 - Fundamentos de Sistemas de Stock y Flujo"
   ]
  },
  {
   "cell_type": "markdown",
   "id": "49bb1542",
   "metadata": {},
   "source": [
    "1. Defina de teoricamente los siguientes términos de forma clara\n",
    "\n",
    "    a. Stock\n",
    "    Es una variable que representa una acumulación en el tiempo, el nivel de una cantidad en un momento dado, como la población en una ciudad.\n",
    "\n",
    "    b. Flujo\n",
    "    Es una tasa de cambio que afecta a los stocks. Puede ser de entrada (aumenta el stock) o de salida (lo disminuye). \n",
    "\n",
    "    c. Bucle de retroalimentación\n",
    "    Es una estructura en la que una parte de la salida del sistema regresa como entrada, afectando su comportamiento futuro. Puede ser balanceado que estabiliza el sistema o reforzado que lo amplifica.\n",
    "\n",
    "\n"
   ]
  },
  {
   "cell_type": "markdown",
   "id": "540e581c",
   "metadata": {},
   "source": [
    "2. Defina con notación matemática y explique lo siguiente\n",
    "\n",
    "    a. Ecuación de acumulación de stock\n",
    "    dS/dt =Fin−Fout\n",
    "\n",
    "    S = Stock\n",
    "    Fin = Flujo de entrada\n",
    "    Fout = Flujo de salida\n",
    "\n",
    "    La ecuación indica que el cambio del stock en el tiempo depende de la diferencia entre los flujos de entrada y salida​.\n",
    "\n",
    "    b. Análisis dimensional de tasa de flujo\n",
    "    El flujo se mide como cantidad por unidad de tiempo:\n",
    "    [𝐹] = cantidad / tiempo (por ejemplo, personas/día)\n",
    "\n",
    "    c. Forma de solución de decaimiento exponencial\n",
    "    S(t)=S0e^−αt\n",
    "    \n",
    "    S0 = valor inicial\n",
    "    α = tasa de decaimiento\n",
    "    t = tiempo\n",
    "    \n",
    "    Este modelo describe cómo un stock disminuye de forma continua en el tiempo a una tasa proporcional a su valor actual."
   ]
  },
  {
   "cell_type": "markdown",
   "id": "64be07c9",
   "metadata": {},
   "source": [
    "3. Compare y explique las diferencias de:\n",
    "\n",
    "    a. Modelado de tiempo contínuo vs modelado de tiempo discreto\n",
    "\n",
    "    Tiempo continuo: El sistema se modela con ecuaciones diferenciales. El tiempo fluye sin interrupciones.\n",
    "    Tiempo discreto: Se utiliza una secuencia de intervalos. Se modela con ecuaciones en diferencias.\n",
    "\n",
    "    b. Retroalimentación balanceada vs reforzada\n",
    "\n",
    "    Balanceada (negativa): Tiende a estabilizar el sistema. Ej.: regulación de temperatura.\n",
    "    Reforzada (positiva): Aumenta los cambios en el sistema. Ej.: crecimiento poblacional sin límites."
   ]
  },
  {
   "cell_type": "markdown",
   "id": "3ee3830c",
   "metadata": {},
   "source": [
    "4. Interprete el significado de la constante de tiempo τ=1/α en sistemas del mundo real (por ejemplo,\n",
    "descomposición de la población, metabolismo de fármacos).\n",
    "\n",
    "    La constante de tiempo τ indica el tiempo que tarda un sistema en responder significativamente a un cambio. Es el tiempo en el que el valor del stock decae aproximadamente al 37% de su valor inicial.\n",
    "\n",
    "    Ejemplo del mundo real:\n",
    "    En demografía, describe la velocidad con la que una población se estabiliza tras un cambio."
   ]
  }
 ],
 "metadata": {
  "language_info": {
   "name": "python"
  }
 },
 "nbformat": 4,
 "nbformat_minor": 5
}
