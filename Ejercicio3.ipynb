{
 "cells": [
  {
   "cell_type": "markdown",
   "id": "a644f7df",
   "metadata": {},
   "source": [
    "## Ejercicio 3 - Métodos numéricos y aplicaciones en el mundo real"
   ]
  },
  {
   "cell_type": "markdown",
   "id": "fa6080fc",
   "metadata": {},
   "source": [
    "### Parte Teórica"
   ]
  },
  {
   "cell_type": "markdown",
   "id": "c3b434f2",
   "metadata": {},
   "source": [
    "\n",
    "1. Compare críticamente:\n",
    "\n",
    "a. Método de Euler vs. Runge-Kutta para la integración\n",
    "\n",
    "i. Contrate la estabilidad de ambos métodos y cómo el tamaño del paso afecta a la estabilidad\n",
    "\n",
    "Euler es menos estable, especialmente con pasos grandes. Puede volverse inexacto o inestable fácilmente. RK4 es más estable y tolera mejor pasos grandes, aunque aún es sensible si el paso es muy grande.\n",
    "\n",
    "\n",
    "b. Compensación entre precisión y coste computacional.\n",
    "\n",
    "Euler es rápido pero menos preciso. Sirve para obtener una idea general. RK4 es mucho más preciso, pero toma más cálculos (más lento). Hay que elegir entre rapidez o exactitud, según el caso.\n",
    "\n",
    "\n",
    "\n"
   ]
  },
  {
   "cell_type": "markdown",
   "id": "442c941b",
   "metadata": {},
   "source": [
    "2. Explique cómo los retrasos en los ciclos de retroalimentación (p. ej., el retraso en las pruebas durante\n",
    "epidemias) afectan el comportamiento del sistema.\n",
    "\n",
    "Los retrasos hacen que el sistema reaccione tarde, lo que agrava los problemas.\n",
    "Por ejemplo, si las pruebas durante una epidemia tardan, no se detectan casos a tiempo → el virus se sigue propagando. El sistema “va detrás” del problema, no lo previene.\n",
    "\n"
   ]
  },
  {
   "cell_type": "markdown",
   "id": "4cd79e8a",
   "metadata": {},
   "source": [
    "3. Proponga un modelo de stock-flujo para:\n",
    "\n",
    "a. Capacidad hospitalaria durante una epidemia.\n",
    "\n",
    "b. Incluir las camas de UCI como stock y los ingresos/altas como flujos.\n",
    "\n",
    "\n",
    "Durante una epidemia, la capacidad hospitalaria se puede representar como un sistema dinámico, donde el recurso limitado son las **camas disponibles**.\n",
    "\n",
    "* **Stock:**\n",
    "\n",
    "  * `Camas UCI disponibles` → representa el número de camas actualmente libres.\n",
    "\n",
    "* **Flujos:**\n",
    "\n",
    "  * `Ingresos` → pacientes graves que necesitan una cama de UCI → **disminuye** el stock.\n",
    "  * `Altas médicas` o `fallecimientos` → liberan camas → **aumenta** el stock.\n",
    "\n",
    "\n",
    "**Ecuación general del stock:**\n",
    "\n",
    "$$\n",
    "\\text{Camas}_\\text{UCI}(t+\\Delta t) = \\text{Camas}_\\text{UCI}(t) + \\text{Altas}(t) \\cdot \\Delta t - \\text{Ingresos}(t) \\cdot \\Delta t\n",
    "$$\n",
    "\n"
   ]
  },
  {
   "cell_type": "markdown",
   "id": "18ec82f5",
   "metadata": {},
   "source": [
    "4. Para el Método de Euler\n",
    "\n",
    "a. Indique cómo se define el error local de truncamiento\n",
    "\n",
    "Es el error que se comete en un solo paso del método al aproximar una solución numérica en lugar de usar la solución exacta de la ecuación diferencial.\n",
    "Se produce porque se corta (trunca) la serie de Taylor después del primer término.\n",
    "\n",
    "b. Enumere dos ventajas y desventajas del método\n",
    "\n",
    "\n",
    "**Ventajas:**\n",
    "\n",
    "1. Es muy fácil de implementar.\n",
    "2. Requiere pocos cálculos por paso, por lo que es rápido.\n",
    "\n",
    "**Desventajas:**\n",
    "\n",
    "1. Es poco preciso, especialmente si el paso de tiempo es grande.\n",
    "2. Puede volverse inestable para ciertos modelos o valores de Δt.\n",
    "\n",
    "c. Explique el algoritmo\n",
    "\n",
    "Se basa en avanzar paso a paso usando la pendiente en el punto actual.\n",
    "\n",
    "1. Se parte de un valor inicial: $y(t_0) = y_0$\n",
    "2. Para cada paso:\n",
    "\n",
    "$$\n",
    "y_{nuevo} = y_{actual} + f(t, y) \\cdot \\Delta t\n",
    "$$\n",
    "\n",
    "donde:\n",
    "\n",
    "* $f(t, y)$ es la derivada de $y$ respecto a $t$\n",
    "* $\\Delta t$ es el paso de tiempo\n",
    "\n",
    "Este proceso se repite para obtener la solución aproximada en el tiempo.\n"
   ]
  },
  {
   "cell_type": "markdown",
   "id": "4257b916",
   "metadata": {},
   "source": [
    "5. Para el método de Runge-Kutta (RK4):\n",
    "\n",
    "a. Explique el algoritmo y principalmente los cuatro pasos intermedios\n",
    "\n",
    "\n",
    "El método RK4 mejora la precisión calculando varias pendientes intermedias en cada paso. Los pasos son:\n",
    "\n",
    "1. $k_1 = f(t, y)$ → pendiente al inicio del intervalo\n",
    "2. $k_2 = f(t + \\frac{\\Delta t}{2}, y + \\frac{k_1 \\cdot \\Delta t}{2})$ → pendiente a mitad del intervalo usando $k_1$\n",
    "3. $k_3 = f(t + \\frac{\\Delta t}{2}, y + \\frac{k_2 \\cdot \\Delta t}{2})$ → otra pendiente intermedia usando $k_2$\n",
    "4. $k_4 = f(t + \\Delta t, y + k_3 \\cdot \\Delta t)$ → pendiente al final del intervalo\n",
    "\n",
    "Luego se combina todo:\n",
    "\n",
    "$$\n",
    "y_{nuevo} = y + \\frac{\\Delta t}{6}(k_1 + 2k_2 + 2k_3 + k_4)\n",
    "$$\n",
    "\n",
    "\n",
    "b. Compare el error global con el de Euler\n",
    "\n",
    "* **Euler:** Error global ≈ $\\mathcal{O}(\\Delta t)$ (lineal)\n",
    "* **RK4:** Error global ≈ $\\mathcal{O}((\\Delta t)^4)$ (mucho más preciso)\n",
    "\n",
    "RK4 es mucho más exacto que Euler con el mismo tamaño de paso.\n",
    "\n",
    "c. ¿Cuándo vale la pena utilizar RK4 considerando el costo computacional?\n",
    "\n",
    "* Cuando se necesita alta precisión, por ejemplo:\n",
    "\n",
    "  * Modelos sensibles como epidemias, sistemas ecológicos, dinámicas físicas.\n",
    "  * Simulaciones donde el error acumulado afecta las decisiones.\n",
    "* Aunque es más costoso, evita errores grandes sin tener que usar pasos muy pequeños como en Euler."
   ]
  },
  {
   "cell_type": "markdown",
   "id": "1d4bd752",
   "metadata": {},
   "source": [
    "### Parte Práctica\n"
   ]
  },
  {
   "cell_type": "code",
   "execution_count": 1,
   "id": "93dac70e",
   "metadata": {},
   "outputs": [],
   "source": [
    "import numpy as np\n",
    "import matplotlib.pyplot as plt\n",
    "\n",
    "# Parámetros del modelo logístico\n",
    "r = 0.1\n",
    "K = 1000\n",
    "x0 = 10\n",
    "T = 100  # tiempo total\n",
    "\n",
    "# Modelo logístico\n",
    "def logistic(x, r, K):\n",
    "    return r * x * (1 - x / K)\n"
   ]
  },
  {
   "cell_type": "code",
   "execution_count": 2,
   "id": "c2f94125",
   "metadata": {},
   "outputs": [],
   "source": [
    "def euler_method(f, x0, r, K, T, dt):\n",
    "    n = int(T / dt)\n",
    "    x = np.zeros(n + 1)\n",
    "    t = np.linspace(0, T, n + 1)\n",
    "    x[0] = x0\n",
    "    for i in range(n):\n",
    "        x[i + 1] = x[i] + dt * f(x[i], r, K)\n",
    "    return t, x\n"
   ]
  },
  {
   "cell_type": "code",
   "execution_count": 3,
   "id": "44668124",
   "metadata": {},
   "outputs": [],
   "source": [
    "def rk4_method(f, x0, r, K, T, dt):\n",
    "    n = int(T / dt)\n",
    "    x = np.zeros(n + 1)\n",
    "    t = np.linspace(0, T, n + 1)\n",
    "    x[0] = x0\n",
    "    for i in range(n):\n",
    "        k1 = dt * f(x[i], r, K)\n",
    "        k2 = dt * f(x[i] + 0.5 * k1, r, K)\n",
    "        k3 = dt * f(x[i] + 0.5 * k2, r, K)\n",
    "        k4 = dt * f(x[i] + k3, r, K)\n",
    "        x[i + 1] = x[i] + (k1 + 2*k2 + 2*k3 + k4) / 6\n",
    "    return t, x\n"
   ]
  },
  {
   "cell_type": "code",
   "execution_count": 4,
   "id": "4d65617e",
   "metadata": {},
   "outputs": [],
   "source": [
    "# Simulación con dt = 1.0\n",
    "dt = 1.0\n",
    "t_euler, x_euler = euler_method(logistic, x0, r, K, T, dt)\n",
    "t_rk4, x_rk4 = rk4_method(logistic, x0, r, K, T, dt)\n",
    "\n",
    "# Solución de referencia con RK4 muy preciso\n",
    "_, x_ref = rk4_method(logistic, x0, r, K, T, 0.001)\n",
    "x_ref_50 = x_ref[int(50 / 0.001)]\n",
    "\n",
    "# Cálculo de errores relativos en t=50\n",
    "error_rel_euler = abs(x_euler[int(50/dt)] - x_ref_50) / x_ref_50\n",
    "error_rel_rk4 = abs(x_rk4[int(50/dt)] - x_ref_50) / x_ref_50\n"
   ]
  },
  {
   "cell_type": "code",
   "execution_count": 5,
   "id": "fef613c0",
   "metadata": {},
   "outputs": [
    {
     "data": {
      "image/png": "[encoded data removed]",
      "text/plain": [
       "<Figure size 1000x600 with 1 Axes>"
      ]
     },
     "metadata": {},
     "output_type": "display_data"
    }
   ],
   "source": [
    "plt.figure(figsize=(10, 6))\n",
    "plt.plot(t_euler, x_euler, '--', label='Euler (dt=1.0)')\n",
    "plt.plot(t_rk4, x_rk4, '-', label='RK4 (dt=1.0)')\n",
    "plt.plot(np.linspace(0, T, len(x_ref)), x_ref, ':', label='Referencia (RK4 dt=0.001)', alpha=0.7)\n",
    "plt.xlabel(\"Tiempo\")\n",
    "plt.ylabel(\"Población\")\n",
    "plt.title(\"Comparación de Euler vs RK4 en el modelo logístico\")\n",
    "plt.legend()\n",
    "plt.grid(True)\n",
    "plt.tight_layout()\n",
    "plt.show()\n"
   ]
  },
  {
   "cell_type": "code",
   "execution_count": 6,
   "id": "302cc3e8",
   "metadata": {},
   "outputs": [
    {
     "data": {
      "text/html": [
       "<div>\n",
       "<style scoped>\n",
       "    .dataframe tbody tr th:only-of-type {\n",
       "        vertical-align: middle;\n",
       "    }\n",
       "\n",
       "    .dataframe tbody tr th {\n",
       "        vertical-align: top;\n",
       "    }\n",
       "\n",
       "    .dataframe thead th {\n",
       "        text-align: right;\n",
       "    }\n",
       "</style>\n",
       "<table border=\"1\" class=\"dataframe\">\n",
       "  <thead>\n",
       "    <tr style=\"text-align: right;\">\n",
       "      <th></th>\n",
       "      <th>Método</th>\n",
       "      <th>Error relativo en t=50</th>\n",
       "    </tr>\n",
       "  </thead>\n",
       "  <tbody>\n",
       "    <tr>\n",
       "      <th>0</th>\n",
       "      <td>Euler</td>\n",
       "      <td>6.470342e-02</td>\n",
       "    </tr>\n",
       "    <tr>\n",
       "      <th>1</th>\n",
       "      <td>RK4</td>\n",
       "      <td>8.061105e-07</td>\n",
       "    </tr>\n",
       "  </tbody>\n",
       "</table>\n",
       "</div>"
      ],
      "text/plain": [
       "  Método  Error relativo en t=50\n",
       "0  Euler            6.470342e-02\n",
       "1    RK4            8.061105e-07"
      ]
     },
     "execution_count": 6,
     "metadata": {},
     "output_type": "execute_result"
    }
   ],
   "source": [
    "import pandas as pd\n",
    "\n",
    "df_errores = pd.DataFrame({\n",
    "    \"Método\": [\"Euler\", \"RK4\"],\n",
    "    \"Error relativo en t=50\": [error_rel_euler, error_rel_rk4]\n",
    "})\n",
    "df_errores\n"
   ]
  },
  {
   "cell_type": "markdown",
   "id": "b1b29d82",
   "metadata": {},
   "source": [
    "La comparación entre los métodos de Euler y RK4 en el modelo de crecimiento logístico muestra diferencias claras en precisión. Aunque ambos métodos siguen la tendencia general del crecimiento poblacional, Euler con Δt=1.0 genera un error relativo notable (6.47%), mientras que RK4 prácticamente replica la solución de referencia con un error despreciable (8.06×10 −7). Esto confirma que RK4 no solo es más preciso, sino también más estable para Δt grandes. Sin embargo, Euler puede seguir siendo útil cuando se necesita simplicidad y bajo costo computacional en sistemas donde el error tolerable es mayor."
   ]
  },
  {
   "cell_type": "markdown",
   "id": "2add9ebb",
   "metadata": {},
   "source": [
    "**a. ¿Qué método mantiene mejor la estabilidad?**  \n",
    "RK4 mantiene mucho mejor la estabilidad, especialmente cuando se usan pasos grandes como \\(\\Delta t = 1.0\\) o más. Euler tiende a oscilar o incluso diverger en algunos casos.\n",
    "\n",
    "**b. ¿Cómo escala el error con Δt en cada método?**  \n",
    "El método de Euler tiene error proporcional a Δt, mientras que RK4 tiene error proporcional a Delta t^4. Esto significa que RK4 es mucho más preciso incluso con pasos relativamente grandes.\n",
    "\n",
    "**c. ¿Cuándo convendría elegir Euler en lugar de RK4?**  \n",
    "Euler puede ser preferible en simulaciones muy simples, cuando se desea una implementación rápida o cuando se tiene un sistema con muchos agentes o componentes (por ejemplo, en modelos tipo agente), donde la prioridad es velocidad sobre precisión.\n"
   ]
  },
  {
   "cell_type": "markdown",
   "id": "c933364a",
   "metadata": {},
   "source": [
    "Último prompt utilizado: \n",
    "\n",
    "Ya comparé Euler y RK4 usando el modelo logístico con Δt=1.0, y calculé el error relativo en t=50. ¿Me puedes ayudar a interpretar por qué RK4 tiene un error tan pequeño en comparación con Euler, y qué implicaciones tiene eso para elegir el método adecuado?\n",
    "\n",
    "¿Por qué funcionó este prompt?\n",
    "Funcionó porque fue específico y contextualizado: no pide rehacer el ejercicio, sino interpretar un resultado ya obtenido (el error relativo). Invita a una reflexión técnica basada en evidencia, como los valores numéricos y la gráfica generada. Además, enfoca la pregunta en la toma de decisiones prácticas, es decir, cuándo usar un método más complejo (RK4) frente a uno más simple (Euler), lo cual es esencial en modelación y simulación."
   ]
  }
 ],
 "metadata": {
  "kernelspec": {
   "display_name": "Python 3",
   "language": "python",
   "name": "python3"
  },
  "language_info": {
   "codemirror_mode": {
    "name": "ipython",
    "version": 3
   },
   "file_extension": ".py",
   "mimetype": "text/x-python",
   "name": "python",
   "nbconvert_exporter": "python",
   "pygments_lexer": "ipython3",
   "version": "3.13.3"
  }
 },
 "nbformat": 4,
 "nbformat_minor": 5
}
