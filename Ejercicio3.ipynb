{
 "cells": [
  {
   "cell_type": "markdown",
   "id": "a644f7df",
   "metadata": {},
   "source": [
    "## Ejercicio 3 - Métodos numéricos y aplicaciones en el mundo real"
   ]
  },
  {
   "cell_type": "markdown",
   "id": "fa6080fc",
   "metadata": {},
   "source": [
    "### Parte Teórica"
   ]
  },
  {
   "cell_type": "markdown",
   "id": "c3b434f2",
   "metadata": {},
   "source": [
    "\n",
    "1. Compare críticamente:\n",
    "\n",
    "a. Método de Euler vs. Runge-Kutta para la integración\n",
    "\n",
    "i. Contrate la estabilidad de ambos métodos y cómo el tamaño del paso afecta a la estabilidad\n",
    "\n",
    "Euler es menos estable, especialmente con pasos grandes. Puede volverse inexacto o inestable fácilmente. RK4 es más estable y tolera mejor pasos grandes, aunque aún es sensible si el paso es muy grande.\n",
    "\n",
    "\n",
    "b. Compensación entre precisión y coste computacional.\n",
    "\n",
    "Euler es rápido pero menos preciso. Sirve para obtener una idea general. RK4 es mucho más preciso, pero toma más cálculos (más lento). Hay que elegir entre rapidez o exactitud, según el caso.\n",
    "\n",
    "\n",
    "\n"
   ]
  },
  {
   "cell_type": "markdown",
   "id": "442c941b",
   "metadata": {},
   "source": [
    "2. Explique cómo los retrasos en los ciclos de retroalimentación (p. ej., el retraso en las pruebas durante\n",
    "epidemias) afectan el comportamiento del sistema.\n",
    "\n",
    "Los retrasos hacen que el sistema reaccione tarde, lo que agrava los problemas.\n",
    "Por ejemplo, si las pruebas durante una epidemia tardan, no se detectan casos a tiempo → el virus se sigue propagando. El sistema “va detrás” del problema, no lo previene.\n",
    "\n"
   ]
  },
  {
   "cell_type": "markdown",
   "id": "4cd79e8a",
   "metadata": {},
   "source": [
    "3. Proponga un modelo de stock-flujo para:\n",
    "\n",
    "a. Capacidad hospitalaria durante una epidemia.\n",
    "\n",
    "b. Incluir las camas de UCI como stock y los ingresos/altas como flujos.\n",
    "\n",
    "\n",
    "Durante una epidemia, la capacidad hospitalaria se puede representar como un sistema dinámico, donde el recurso limitado son las **camas disponibles**.\n",
    "\n",
    "* **Stock:**\n",
    "\n",
    "  * `Camas UCI disponibles` → representa el número de camas actualmente libres.\n",
    "\n",
    "* **Flujos:**\n",
    "\n",
    "  * `Ingresos` → pacientes graves que necesitan una cama de UCI → **disminuye** el stock.\n",
    "  * `Altas médicas` o `fallecimientos` → liberan camas → **aumenta** el stock.\n",
    "\n",
    "\n",
    "**Ecuación general del stock:**\n",
    "\n",
    "$$\n",
    "\\text{Camas}_\\text{UCI}(t+\\Delta t) = \\text{Camas}_\\text{UCI}(t) + \\text{Altas}(t) \\cdot \\Delta t - \\text{Ingresos}(t) \\cdot \\Delta t\n",
    "$$\n",
    "\n"
   ]
  },
  {
   "cell_type": "markdown",
   "id": "18ec82f5",
   "metadata": {},
   "source": [
    "4. Para el Método de Euler\n",
    "\n",
    "a. Indique cómo se define el error local de truncamiento\n",
    "\n",
    "Es el error que se comete en un solo paso del método al aproximar una solución numérica en lugar de usar la solución exacta de la ecuación diferencial.\n",
    "Se produce porque se corta (trunca) la serie de Taylor después del primer término.\n",
    "\n",
    "b. Enumere dos ventajas y desventajas del método\n",
    "\n",
    "\n",
    "**Ventajas:**\n",
    "\n",
    "1. Es muy fácil de implementar.\n",
    "2. Requiere pocos cálculos por paso, por lo que es rápido.\n",
    "\n",
    "**Desventajas:**\n",
    "\n",
    "1. Es poco preciso, especialmente si el paso de tiempo es grande.\n",
    "2. Puede volverse inestable para ciertos modelos o valores de Δt.\n",
    "\n",
    "c. Explique el algoritmo\n",
    "\n",
    "Se basa en avanzar paso a paso usando la pendiente en el punto actual.\n",
    "\n",
    "1. Se parte de un valor inicial: $y(t_0) = y_0$\n",
    "2. Para cada paso:\n",
    "\n",
    "$$\n",
    "y_{nuevo} = y_{actual} + f(t, y) \\cdot \\Delta t\n",
    "$$\n",
    "\n",
    "donde:\n",
    "\n",
    "* $f(t, y)$ es la derivada de $y$ respecto a $t$\n",
    "* $\\Delta t$ es el paso de tiempo\n",
    "\n",
    "Este proceso se repite para obtener la solución aproximada en el tiempo.\n"
   ]
  },
  {
   "cell_type": "markdown",
   "id": "4257b916",
   "metadata": {},
   "source": [
    "5. Para el método de Runge-Kutta (RK4):\n",
    "\n",
    "a. Explique el algoritmo y principalmente los cuatro pasos intermedios\n",
    "\n",
    "\n",
    "El método RK4 mejora la precisión calculando varias pendientes intermedias en cada paso. Los pasos son:\n",
    "\n",
    "1. $k_1 = f(t, y)$ → pendiente al inicio del intervalo\n",
    "2. $k_2 = f(t + \\frac{\\Delta t}{2}, y + \\frac{k_1 \\cdot \\Delta t}{2})$ → pendiente a mitad del intervalo usando $k_1$\n",
    "3. $k_3 = f(t + \\frac{\\Delta t}{2}, y + \\frac{k_2 \\cdot \\Delta t}{2})$ → otra pendiente intermedia usando $k_2$\n",
    "4. $k_4 = f(t + \\Delta t, y + k_3 \\cdot \\Delta t)$ → pendiente al final del intervalo\n",
    "\n",
    "Luego se combina todo:\n",
    "\n",
    "$$\n",
    "y_{nuevo} = y + \\frac{\\Delta t}{6}(k_1 + 2k_2 + 2k_3 + k_4)\n",
    "$$\n",
    "\n",
    "\n",
    "b. Compare el error global con el de Euler\n",
    "\n",
    "* **Euler:** Error global ≈ $\\mathcal{O}(\\Delta t)$ (lineal)\n",
    "* **RK4:** Error global ≈ $\\mathcal{O}((\\Delta t)^4)$ (mucho más preciso)\n",
    "\n",
    "RK4 es mucho más exacto que Euler con el mismo tamaño de paso.\n",
    "\n",
    "c. ¿Cuándo vale la pena utilizar RK4 considerando el costo computacional?\n",
    "\n",
    "* Cuando se necesita alta precisión, por ejemplo:\n",
    "\n",
    "  * Modelos sensibles como epidemias, sistemas ecológicos, dinámicas físicas.\n",
    "  * Simulaciones donde el error acumulado afecta las decisiones.\n",
    "* Aunque es más costoso, evita errores grandes sin tener que usar pasos muy pequeños como en Euler."
   ]
  },
  {
   "cell_type": "markdown",
   "id": "1d4bd752",
   "metadata": {},
   "source": [
    "### Parte Práctica\n"
   ]
  }
 ],
 "metadata": {
  "language_info": {
   "name": "python"
  }
 },
 "nbformat": 4,
 "nbformat_minor": 5
}
